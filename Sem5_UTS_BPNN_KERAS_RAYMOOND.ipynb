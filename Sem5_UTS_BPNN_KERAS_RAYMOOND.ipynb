{
  "nbformat": 4,
  "nbformat_minor": 0,
  "metadata": {
    "colab": {
      "name": "Sem5_UTS_BPNN_KERAS_RAYMOOND.ipynb",
      "provenance": [],
      "collapsed_sections": []
    },
    "kernelspec": {
      "name": "python3",
      "display_name": "Python 3"
    },
    "language_info": {
      "name": "python"
    },
    "accelerator": "GPU"
  },
  "cells": [
    {
      "cell_type": "markdown",
      "metadata": {
        "id": "BJkz3fhBUDED"
      },
      "source": [
        "# UTS Deep Learning \n",
        "**Raymoond/2301872381**"
      ]
    },
    {
      "cell_type": "markdown",
      "metadata": {
        "id": "kNI7gfXn6ay-"
      },
      "source": [
        "# Import Library and Dataset\n",
        "disini saya import semua library dan dataset yang nantinya akan dipakai di dalam code"
      ]
    },
    {
      "cell_type": "code",
      "metadata": {
        "colab": {
          "base_uri": "https://localhost:8080/"
        },
        "id": "nW33fkcYCN-e",
        "outputId": "94a69f9d-d5d1-4565-f1a5-693ff3c7da51"
      },
      "source": [
        "pip install keras-tuner --upgrade"
      ],
      "execution_count": null,
      "outputs": [
        {
          "output_type": "stream",
          "name": "stdout",
          "text": [
            "Requirement already satisfied: keras-tuner in /usr/local/lib/python3.7/dist-packages (1.1.0)\n",
            "Requirement already satisfied: scipy in /usr/local/lib/python3.7/dist-packages (from keras-tuner) (1.4.1)\n",
            "Requirement already satisfied: kt-legacy in /usr/local/lib/python3.7/dist-packages (from keras-tuner) (1.0.4)\n",
            "Requirement already satisfied: packaging in /usr/local/lib/python3.7/dist-packages (from keras-tuner) (21.3)\n",
            "Requirement already satisfied: numpy in /usr/local/lib/python3.7/dist-packages (from keras-tuner) (1.19.5)\n",
            "Requirement already satisfied: requests in /usr/local/lib/python3.7/dist-packages (from keras-tuner) (2.23.0)\n",
            "Requirement already satisfied: tensorboard in /usr/local/lib/python3.7/dist-packages (from keras-tuner) (2.7.0)\n",
            "Requirement already satisfied: ipython in /usr/local/lib/python3.7/dist-packages (from keras-tuner) (5.5.0)\n",
            "Requirement already satisfied: pygments in /usr/local/lib/python3.7/dist-packages (from ipython->keras-tuner) (2.6.1)\n",
            "Requirement already satisfied: decorator in /usr/local/lib/python3.7/dist-packages (from ipython->keras-tuner) (4.4.2)\n",
            "Requirement already satisfied: setuptools>=18.5 in /usr/local/lib/python3.7/dist-packages (from ipython->keras-tuner) (57.4.0)\n",
            "Requirement already satisfied: traitlets>=4.2 in /usr/local/lib/python3.7/dist-packages (from ipython->keras-tuner) (5.1.1)\n",
            "Requirement already satisfied: simplegeneric>0.8 in /usr/local/lib/python3.7/dist-packages (from ipython->keras-tuner) (0.8.1)\n",
            "Requirement already satisfied: prompt-toolkit<2.0.0,>=1.0.4 in /usr/local/lib/python3.7/dist-packages (from ipython->keras-tuner) (1.0.18)\n",
            "Requirement already satisfied: pexpect in /usr/local/lib/python3.7/dist-packages (from ipython->keras-tuner) (4.8.0)\n",
            "Requirement already satisfied: pickleshare in /usr/local/lib/python3.7/dist-packages (from ipython->keras-tuner) (0.7.5)\n",
            "Requirement already satisfied: six>=1.9.0 in /usr/local/lib/python3.7/dist-packages (from prompt-toolkit<2.0.0,>=1.0.4->ipython->keras-tuner) (1.15.0)\n",
            "Requirement already satisfied: wcwidth in /usr/local/lib/python3.7/dist-packages (from prompt-toolkit<2.0.0,>=1.0.4->ipython->keras-tuner) (0.2.5)\n",
            "Requirement already satisfied: pyparsing!=3.0.5,>=2.0.2 in /usr/local/lib/python3.7/dist-packages (from packaging->keras-tuner) (3.0.6)\n",
            "Requirement already satisfied: ptyprocess>=0.5 in /usr/local/lib/python3.7/dist-packages (from pexpect->ipython->keras-tuner) (0.7.0)\n",
            "Requirement already satisfied: chardet<4,>=3.0.2 in /usr/local/lib/python3.7/dist-packages (from requests->keras-tuner) (3.0.4)\n",
            "Requirement already satisfied: certifi>=2017.4.17 in /usr/local/lib/python3.7/dist-packages (from requests->keras-tuner) (2021.10.8)\n",
            "Requirement already satisfied: idna<3,>=2.5 in /usr/local/lib/python3.7/dist-packages (from requests->keras-tuner) (2.10)\n",
            "Requirement already satisfied: urllib3!=1.25.0,!=1.25.1,<1.26,>=1.21.1 in /usr/local/lib/python3.7/dist-packages (from requests->keras-tuner) (1.24.3)\n",
            "Requirement already satisfied: protobuf>=3.6.0 in /usr/local/lib/python3.7/dist-packages (from tensorboard->keras-tuner) (3.17.3)\n",
            "Requirement already satisfied: wheel>=0.26 in /usr/local/lib/python3.7/dist-packages (from tensorboard->keras-tuner) (0.37.0)\n",
            "Requirement already satisfied: google-auth<3,>=1.6.3 in /usr/local/lib/python3.7/dist-packages (from tensorboard->keras-tuner) (1.35.0)\n",
            "Requirement already satisfied: tensorboard-plugin-wit>=1.6.0 in /usr/local/lib/python3.7/dist-packages (from tensorboard->keras-tuner) (1.8.0)\n",
            "Requirement already satisfied: markdown>=2.6.8 in /usr/local/lib/python3.7/dist-packages (from tensorboard->keras-tuner) (3.3.6)\n",
            "Requirement already satisfied: grpcio>=1.24.3 in /usr/local/lib/python3.7/dist-packages (from tensorboard->keras-tuner) (1.42.0)\n",
            "Requirement already satisfied: tensorboard-data-server<0.7.0,>=0.6.0 in /usr/local/lib/python3.7/dist-packages (from tensorboard->keras-tuner) (0.6.1)\n",
            "Requirement already satisfied: google-auth-oauthlib<0.5,>=0.4.1 in /usr/local/lib/python3.7/dist-packages (from tensorboard->keras-tuner) (0.4.6)\n",
            "Requirement already satisfied: absl-py>=0.4 in /usr/local/lib/python3.7/dist-packages (from tensorboard->keras-tuner) (0.12.0)\n",
            "Requirement already satisfied: werkzeug>=0.11.15 in /usr/local/lib/python3.7/dist-packages (from tensorboard->keras-tuner) (1.0.1)\n",
            "Requirement already satisfied: cachetools<5.0,>=2.0.0 in /usr/local/lib/python3.7/dist-packages (from google-auth<3,>=1.6.3->tensorboard->keras-tuner) (4.2.4)\n",
            "Requirement already satisfied: rsa<5,>=3.1.4 in /usr/local/lib/python3.7/dist-packages (from google-auth<3,>=1.6.3->tensorboard->keras-tuner) (4.7.2)\n",
            "Requirement already satisfied: pyasn1-modules>=0.2.1 in /usr/local/lib/python3.7/dist-packages (from google-auth<3,>=1.6.3->tensorboard->keras-tuner) (0.2.8)\n",
            "Requirement already satisfied: requests-oauthlib>=0.7.0 in /usr/local/lib/python3.7/dist-packages (from google-auth-oauthlib<0.5,>=0.4.1->tensorboard->keras-tuner) (1.3.0)\n",
            "Requirement already satisfied: importlib-metadata>=4.4 in /usr/local/lib/python3.7/dist-packages (from markdown>=2.6.8->tensorboard->keras-tuner) (4.8.2)\n",
            "Requirement already satisfied: zipp>=0.5 in /usr/local/lib/python3.7/dist-packages (from importlib-metadata>=4.4->markdown>=2.6.8->tensorboard->keras-tuner) (3.6.0)\n",
            "Requirement already satisfied: typing-extensions>=3.6.4 in /usr/local/lib/python3.7/dist-packages (from importlib-metadata>=4.4->markdown>=2.6.8->tensorboard->keras-tuner) (3.10.0.2)\n",
            "Requirement already satisfied: pyasn1<0.5.0,>=0.4.6 in /usr/local/lib/python3.7/dist-packages (from pyasn1-modules>=0.2.1->google-auth<3,>=1.6.3->tensorboard->keras-tuner) (0.4.8)\n",
            "Requirement already satisfied: oauthlib>=3.0.0 in /usr/local/lib/python3.7/dist-packages (from requests-oauthlib>=0.7.0->google-auth-oauthlib<0.5,>=0.4.1->tensorboard->keras-tuner) (3.1.1)\n"
          ]
        }
      ]
    },
    {
      "cell_type": "code",
      "metadata": {
        "id": "meuH_U63CREI"
      },
      "source": [
        "import numpy as np\n",
        "import pandas as pd\n",
        "import keras_tuner as kt\n",
        "import keras\n",
        "import tensorflow as tf\n",
        "import seaborn as sns\n",
        "from sklearn.metrics import classification_report\n",
        "from sklearn.metrics import accuracy_score\n",
        "from sklearn.metrics import confusion_matrix\n",
        "from sklearn.preprocessing import StandardScaler\n",
        "from sklearn.model_selection import train_test_split\n",
        "from tensorflow.keras.utils import to_categorical\n",
        "from tensorflow.keras import layers\n",
        "from keras.models import Sequential\n",
        "from keras.layers import Dense, Dropout\n",
        "from kerastuner.tuners import RandomSearch"
      ],
      "execution_count": null,
      "outputs": []
    },
    {
      "cell_type": "markdown",
      "metadata": {
        "id": "PjgAjXdyUyN8"
      },
      "source": [
        "Pertama kita import semua fuction dan library yang dibutuhkan "
      ]
    },
    {
      "cell_type": "code",
      "metadata": {
        "id": "MmwVTJ4TCWBB"
      },
      "source": [
        "#Import Data\n",
        "train_data = pd.read_csv(\"train.csv\")\n",
        "x_data = train_data[['age','fnlwgt','educational-num','capital-gain','capital-loss','hours-per-week']]\n",
        "y_data = train_data[['income_>50K']]"
      ],
      "execution_count": null,
      "outputs": []
    },
    {
      "cell_type": "code",
      "metadata": {
        "colab": {
          "base_uri": "https://localhost:8080/",
          "height": 300
        },
        "id": "vfMr5tgTEQ7Q",
        "outputId": "aeac7463-250a-4a08-8fde-3fd360cd3261"
      },
      "source": [
        "train_data.describe()"
      ],
      "execution_count": null,
      "outputs": [
        {
          "output_type": "execute_result",
          "data": {
            "text/html": [
              "<div>\n",
              "<style scoped>\n",
              "    .dataframe tbody tr th:only-of-type {\n",
              "        vertical-align: middle;\n",
              "    }\n",
              "\n",
              "    .dataframe tbody tr th {\n",
              "        vertical-align: top;\n",
              "    }\n",
              "\n",
              "    .dataframe thead th {\n",
              "        text-align: right;\n",
              "    }\n",
              "</style>\n",
              "<table border=\"1\" class=\"dataframe\">\n",
              "  <thead>\n",
              "    <tr style=\"text-align: right;\">\n",
              "      <th></th>\n",
              "      <th>age</th>\n",
              "      <th>fnlwgt</th>\n",
              "      <th>educational-num</th>\n",
              "      <th>capital-gain</th>\n",
              "      <th>capital-loss</th>\n",
              "      <th>hours-per-week</th>\n",
              "      <th>income_&gt;50K</th>\n",
              "    </tr>\n",
              "  </thead>\n",
              "  <tbody>\n",
              "    <tr>\n",
              "      <th>count</th>\n",
              "      <td>43957.000000</td>\n",
              "      <td>4.395700e+04</td>\n",
              "      <td>43957.000000</td>\n",
              "      <td>43957.000000</td>\n",
              "      <td>43957.000000</td>\n",
              "      <td>43957.000000</td>\n",
              "      <td>43957.000000</td>\n",
              "    </tr>\n",
              "    <tr>\n",
              "      <th>mean</th>\n",
              "      <td>38.617149</td>\n",
              "      <td>1.896730e+05</td>\n",
              "      <td>10.074118</td>\n",
              "      <td>1093.559797</td>\n",
              "      <td>88.246491</td>\n",
              "      <td>40.407694</td>\n",
              "      <td>0.239279</td>\n",
              "    </tr>\n",
              "    <tr>\n",
              "      <th>std</th>\n",
              "      <td>13.734401</td>\n",
              "      <td>1.058215e+05</td>\n",
              "      <td>2.575092</td>\n",
              "      <td>7570.536063</td>\n",
              "      <td>404.588410</td>\n",
              "      <td>12.400303</td>\n",
              "      <td>0.426648</td>\n",
              "    </tr>\n",
              "    <tr>\n",
              "      <th>min</th>\n",
              "      <td>17.000000</td>\n",
              "      <td>1.349200e+04</td>\n",
              "      <td>1.000000</td>\n",
              "      <td>0.000000</td>\n",
              "      <td>0.000000</td>\n",
              "      <td>1.000000</td>\n",
              "      <td>0.000000</td>\n",
              "    </tr>\n",
              "    <tr>\n",
              "      <th>25%</th>\n",
              "      <td>28.000000</td>\n",
              "      <td>1.174960e+05</td>\n",
              "      <td>9.000000</td>\n",
              "      <td>0.000000</td>\n",
              "      <td>0.000000</td>\n",
              "      <td>40.000000</td>\n",
              "      <td>0.000000</td>\n",
              "    </tr>\n",
              "    <tr>\n",
              "      <th>50%</th>\n",
              "      <td>37.000000</td>\n",
              "      <td>1.781000e+05</td>\n",
              "      <td>10.000000</td>\n",
              "      <td>0.000000</td>\n",
              "      <td>0.000000</td>\n",
              "      <td>40.000000</td>\n",
              "      <td>0.000000</td>\n",
              "    </tr>\n",
              "    <tr>\n",
              "      <th>75%</th>\n",
              "      <td>48.000000</td>\n",
              "      <td>2.376710e+05</td>\n",
              "      <td>12.000000</td>\n",
              "      <td>0.000000</td>\n",
              "      <td>0.000000</td>\n",
              "      <td>45.000000</td>\n",
              "      <td>0.000000</td>\n",
              "    </tr>\n",
              "    <tr>\n",
              "      <th>max</th>\n",
              "      <td>90.000000</td>\n",
              "      <td>1.490400e+06</td>\n",
              "      <td>16.000000</td>\n",
              "      <td>99999.000000</td>\n",
              "      <td>4356.000000</td>\n",
              "      <td>99.000000</td>\n",
              "      <td>1.000000</td>\n",
              "    </tr>\n",
              "  </tbody>\n",
              "</table>\n",
              "</div>"
            ],
            "text/plain": [
              "                age        fnlwgt  ...  hours-per-week   income_>50K\n",
              "count  43957.000000  4.395700e+04  ...    43957.000000  43957.000000\n",
              "mean      38.617149  1.896730e+05  ...       40.407694      0.239279\n",
              "std       13.734401  1.058215e+05  ...       12.400303      0.426648\n",
              "min       17.000000  1.349200e+04  ...        1.000000      0.000000\n",
              "25%       28.000000  1.174960e+05  ...       40.000000      0.000000\n",
              "50%       37.000000  1.781000e+05  ...       40.000000      0.000000\n",
              "75%       48.000000  2.376710e+05  ...       45.000000      0.000000\n",
              "max       90.000000  1.490400e+06  ...       99.000000      1.000000\n",
              "\n",
              "[8 rows x 7 columns]"
            ]
          },
          "metadata": {},
          "execution_count": 4
        }
      ]
    },
    {
      "cell_type": "markdown",
      "metadata": {
        "id": "n8nGzix1U4eC"
      },
      "source": [
        "Disini kita ambil datanya dan memasukan ke train_data, disini saya hanya mengambil data yang valuen ya berupa integer,"
      ]
    },
    {
      "cell_type": "markdown",
      "metadata": {
        "id": "OCeSTE4d6qPv"
      },
      "source": [
        "# Preprocess& split data\n",
        "disini saya melakukan preproceesing terhadap data menggukan scaler dan categorical dan nantinya akan melakukan split data dengan size 80 % dan 20 %\n"
      ]
    },
    {
      "cell_type": "code",
      "metadata": {
        "id": "QGuF-cFFEWtL"
      },
      "source": [
        "#Preprocessing\n",
        "scaler = StandardScaler()\n",
        "x_data = scaler.fit_transform(x_data)\n",
        "\n",
        "from tensorflow.keras.utils import to_categorical\n",
        "y_data = to_categorical(y_data)"
      ],
      "execution_count": null,
      "outputs": []
    },
    {
      "cell_type": "markdown",
      "metadata": {
        "id": "iMvJ1m-lVEyx"
      },
      "source": [
        "Lalu data di preprocess dimana x data digunakan scaler dan y data digunakan encoder categorical"
      ]
    },
    {
      "cell_type": "code",
      "metadata": {
        "id": "dNzXwV9NEiQ9"
      },
      "source": [
        "#split data\n",
        "x_train, x_test, y_train, y_test = train_test_split(x_data, y_data, test_size = 0.2, random_state=1, stratify=y_data)"
      ],
      "execution_count": null,
      "outputs": []
    },
    {
      "cell_type": "markdown",
      "metadata": {
        "id": "mVe4hADdVU40"
      },
      "source": [
        "Lalu data di split ke 80% dan 20 % untuk dimasukan ke dalam model"
      ]
    },
    {
      "cell_type": "markdown",
      "metadata": {
        "id": "Ldo2qXIX61Ss"
      },
      "source": [
        "# Keras Mode\n",
        "Disini saya membuat keras model untuk mencari accuracynya"
      ]
    },
    {
      "cell_type": "code",
      "metadata": {
        "id": "cbm8ULR7EvJD"
      },
      "source": [
        "#Keras Model 1\n",
        "model = Sequential()\n",
        "model.add(Dense(32, input_dim=6, activation='relu'))\n",
        "model.add(Dropout(0.5))\n",
        "model.add(Dense(2, activation='softmax'))"
      ],
      "execution_count": null,
      "outputs": []
    },
    {
      "cell_type": "code",
      "metadata": {
        "id": "EJHr026CEwb-"
      },
      "source": [
        "model.compile(loss='binary_crossentropy', optimizer='Adam', metrics=['accuracy'])"
      ],
      "execution_count": null,
      "outputs": []
    },
    {
      "cell_type": "code",
      "metadata": {
        "colab": {
          "base_uri": "https://localhost:8080/"
        },
        "id": "xQ1zuR-yEx0o",
        "outputId": "570f3c01-57d2-49b6-881b-91afc86970a1"
      },
      "source": [
        "model.fit(x_train, y_train, epochs=5, batch_size=10)"
      ],
      "execution_count": null,
      "outputs": [
        {
          "output_type": "stream",
          "name": "stdout",
          "text": [
            "Epoch 1/5\n",
            "3517/3517 [==============================] - 14s 4ms/step - loss: 0.4290 - accuracy: 0.8062\n",
            "Epoch 2/5\n",
            "3517/3517 [==============================] - 12s 3ms/step - loss: 0.4000 - accuracy: 0.8170\n",
            "Epoch 3/5\n",
            "3517/3517 [==============================] - 12s 4ms/step - loss: 0.3975 - accuracy: 0.8185\n",
            "Epoch 4/5\n",
            "3517/3517 [==============================] - 13s 4ms/step - loss: 0.3973 - accuracy: 0.8180\n",
            "Epoch 5/5\n",
            "3517/3517 [==============================] - 12s 4ms/step - loss: 0.3961 - accuracy: 0.8180\n"
          ]
        },
        {
          "output_type": "execute_result",
          "data": {
            "text/plain": [
              "<keras.callbacks.History at 0x7f89bfa43450>"
            ]
          },
          "metadata": {},
          "execution_count": 9
        }
      ]
    },
    {
      "cell_type": "markdown",
      "metadata": {
        "id": "yRtDCh0pWZZ6"
      },
      "source": [
        "Data yang sudah di preproces tadi kita masukin ke dalam model keras dengan binary crossentroy dan mengunakan adam optimizer, hal ini digunakan un tuk bisa mencari accuracy dari ini"
      ]
    },
    {
      "cell_type": "markdown",
      "metadata": {
        "id": "zkGyJdTE6_-r"
      },
      "source": [
        "# Tuning\n",
        "DIsini saya melakukan tuning untuk mengubah layer sesuai yang soal inginkan yaitu n,2,1"
      ]
    },
    {
      "cell_type": "code",
      "metadata": {
        "id": "gDNKo0PCGD-c"
      },
      "source": [
        "def build_model(hp):\n",
        "    model = keras.Sequential()\n",
        " \n",
        "    for i in range(hp.Int('num_layers',2,5)):\n",
        "      model.add(layers.Dense(units=hp.Int('units_',\n",
        "                                        min_value = 32,\n",
        "                                        max_value = 512,\n",
        "                                        step = 64),\n",
        "                           activation = 'relu'))\n",
        "    model.add(layers.Dense(2, activation ='sigmoid'))\n",
        "    model.compile(\n",
        "        optimizer = tf.keras.optimizers.Adam(\n",
        "            hp.Choice('learning_rate',\n",
        "                      values = [1e-2, 1e-3, 1e-4])),\n",
        "        loss = 'binary_crossentropy',\n",
        "        metrics=['accuracy'])\n",
        "    return model"
      ],
      "execution_count": null,
      "outputs": []
    },
    {
      "cell_type": "code",
      "metadata": {
        "id": "1ocsxm4RGHtj"
      },
      "source": [
        "tuner = kt.RandomSearch(\n",
        "    build_model,\n",
        "    objective='val_accuracy',\n",
        "    max_trials=5,\n",
        "    executions_per_trial=3,\n",
        "    directory='project',\n",
        "    project_name='classification')"
      ],
      "execution_count": null,
      "outputs": []
    },
    {
      "cell_type": "code",
      "metadata": {
        "colab": {
          "base_uri": "https://localhost:8080/"
        },
        "id": "r1B82zZVGLWE",
        "outputId": "78151759-b832-4fc2-d296-edc55d8ec168"
      },
      "source": [
        "tuner.search(x_train,y_train,\n",
        "             epochs=5,\n",
        "             validation_data=(x_test,y_test))"
      ],
      "execution_count": null,
      "outputs": [
        {
          "output_type": "stream",
          "name": "stdout",
          "text": [
            "Trial 5 Complete [00h 01m 24s]\n",
            "val_accuracy: 0.825712780157725\n",
            "\n",
            "Best val_accuracy So Far: 0.8261298139890035\n",
            "Total elapsed time: 00h 08m 00s\n",
            "INFO:tensorflow:Oracle triggered exit\n"
          ]
        }
      ]
    },
    {
      "cell_type": "markdown",
      "metadata": {
        "id": "l_Afgc1vWuyi"
      },
      "source": [
        "Disini kita melakukan tuning seperti yang soal inginkan yaitu agar layernya mejadi  (n,2,1) yang nantinya akan dibandingkan dengan model di atas"
      ]
    },
    {
      "cell_type": "markdown",
      "metadata": {
        "id": "9KQ3gWVw7GoP"
      },
      "source": [
        "# Keras model2\n",
        "disni saya melakukan modeling lagi namun dengan data yang sudah di tunin g"
      ]
    },
    {
      "cell_type": "code",
      "metadata": {
        "id": "5fqv8Dt0GMql"
      },
      "source": [
        "#Keras Model 2\n",
        "model = Sequential()\n",
        "model.add(Dense(224, input_dim=6, activation='relu'))\n",
        "model.add(Dropout(0.5))\n",
        "model.add(Dense(2, activation='sigmoid'))"
      ],
      "execution_count": null,
      "outputs": []
    },
    {
      "cell_type": "code",
      "metadata": {
        "id": "cBfYlXSmGOKO"
      },
      "source": [
        "# compile the keras model\n",
        "model.compile(loss='binary_crossentropy', \n",
        "              optimizer = tf.keras.optimizers.Adam(learning_rate=0.001),\n",
        "              metrics=['accuracy'])"
      ],
      "execution_count": null,
      "outputs": []
    },
    {
      "cell_type": "code",
      "metadata": {
        "colab": {
          "base_uri": "https://localhost:8080/"
        },
        "id": "Mw3d0DWdGP0W",
        "outputId": "8f0c032e-4c5f-4ac3-cbb5-06f43e959bfb"
      },
      "source": [
        "# fit the keras model on the dataset\n",
        "model.fit(x_train,y_train, epochs=5, validation_data=(x_test,y_test), batch_size=10)"
      ],
      "execution_count": null,
      "outputs": [
        {
          "output_type": "stream",
          "name": "stdout",
          "text": [
            "Epoch 1/5\n",
            "3517/3517 [==============================] - 15s 4ms/step - loss: 0.4023 - accuracy: 0.8159 - val_loss: 0.3823 - val_accuracy: 0.8199\n",
            "Epoch 2/5\n",
            "3517/3517 [==============================] - 15s 4ms/step - loss: 0.3912 - accuracy: 0.8212 - val_loss: 0.3815 - val_accuracy: 0.8210\n",
            "Epoch 3/5\n",
            "3517/3517 [==============================] - 14s 4ms/step - loss: 0.3888 - accuracy: 0.8227 - val_loss: 0.3784 - val_accuracy: 0.8246\n",
            "Epoch 4/5\n",
            "3517/3517 [==============================] - 15s 4ms/step - loss: 0.3879 - accuracy: 0.8228 - val_loss: 0.3778 - val_accuracy: 0.8234\n",
            "Epoch 5/5\n",
            "3517/3517 [==============================] - 14s 4ms/step - loss: 0.3876 - accuracy: 0.8226 - val_loss: 0.3791 - val_accuracy: 0.8247\n"
          ]
        },
        {
          "output_type": "execute_result",
          "data": {
            "text/plain": [
              "<keras.callbacks.History at 0x7f89bf0fac10>"
            ]
          },
          "metadata": {},
          "execution_count": 18
        }
      ]
    },
    {
      "cell_type": "markdown",
      "metadata": {
        "id": "umMOrpBCW4Py"
      },
      "source": [
        "Nah disini kita melakukan modeling lagi setelah di tuning, untuk mengecek perbedaan dari ke 2 model tersebut"
      ]
    },
    {
      "cell_type": "markdown",
      "metadata": {
        "id": "gEJ4nf0c7MEc"
      },
      "source": [
        "# Classification report & Conffusion matrix\n",
        "disini saya juga melakkan predict dan mecari classification report dan coffusion matrix terhadap data yang tadi sudah digunakan"
      ]
    },
    {
      "cell_type": "code",
      "metadata": {
        "id": "Ky6dG44pKPR7"
      },
      "source": [
        "Predict = model.predict(x_test)\n",
        "Predict = (Predict > 0.5).astype(int)"
      ],
      "execution_count": null,
      "outputs": []
    },
    {
      "cell_type": "code",
      "metadata": {
        "colab": {
          "base_uri": "https://localhost:8080/",
          "height": 282
        },
        "id": "hGhBcXKDKp0N",
        "outputId": "c69308b3-fcfe-44d1-c811-779e7aa89c82"
      },
      "source": [
        "# Confusion Matrix\n",
        "Conf = confusion_matrix(\n",
        "    y_test.argmax(axis=1), Predict.argmax(axis=1))\n",
        "sns.heatmap(Conf/np.sum(Conf), annot=True, \n",
        "            fmt='.2%', cmap='Oranges')"
      ],
      "execution_count": null,
      "outputs": [
        {
          "output_type": "execute_result",
          "data": {
            "text/plain": [
              "<matplotlib.axes._subplots.AxesSubplot at 0x7f89b8ad1c10>"
            ]
          },
          "metadata": {},
          "execution_count": 39
        },
        {
          "output_type": "display_data",
          "data": {
            "image/png": "[encoded data removed]",
            "text/plain": [
              "<Figure size 432x288 with 2 Axes>"
            ]
          },
          "metadata": {
            "needs_background": "light"
          }
        }
      ]
    },
    {
      "cell_type": "code",
      "metadata": {
        "colab": {
          "base_uri": "https://localhost:8080/"
        },
        "id": "1pfHPYPILC95",
        "outputId": "5982c4ad-2ad4-493f-fa70-f904dc9159ac"
      },
      "source": [
        "print(classification_report(y_test, Predict, labels=[0,1]))"
      ],
      "execution_count": null,
      "outputs": [
        {
          "output_type": "stream",
          "name": "stdout",
          "text": [
            "              precision    recall  f1-score   support\n",
            "\n",
            "           0       0.85      0.94      0.89      6688\n",
            "           1       0.70      0.46      0.56      2104\n",
            "\n",
            "   micro avg       0.82      0.82      0.82      8792\n",
            "   macro avg       0.78      0.70      0.72      8792\n",
            "weighted avg       0.81      0.82      0.81      8792\n",
            " samples avg       0.82      0.82      0.82      8792\n",
            "\n"
          ]
        },
        {
          "output_type": "stream",
          "name": "stderr",
          "text": [
            "/usr/local/lib/python3.7/dist-packages/sklearn/metrics/_classification.py:1308: UndefinedMetricWarning: Precision and F-score are ill-defined and being set to 0.0 in samples with no predicted labels. Use `zero_division` parameter to control this behavior.\n",
            "  _warn_prf(average, modifier, msg_start, len(result))\n"
          ]
        }
      ]
    },
    {
      "cell_type": "code",
      "metadata": {
        "colab": {
          "base_uri": "https://localhost:8080/"
        },
        "id": "WVfBSFZ2LP8J",
        "outputId": "1f29a89e-48ff-4716-9c1d-ae01a437a66a"
      },
      "source": [
        "accuracy_score(y_test, Predict)"
      ],
      "execution_count": null,
      "outputs": [
        {
          "output_type": "execute_result",
          "data": {
            "text/plain": [
              "0.824385805277525"
            ]
          },
          "metadata": {},
          "execution_count": 41
        }
      ]
    },
    {
      "cell_type": "markdown",
      "metadata": {
        "id": "xDKQz9QFXY0p"
      },
      "source": [
        "Setelah melakukan semua modeling tadi , kita tinggal menampilkanClassification Report(percision,recall,f1 score dan accuracy score) dan confusion matrix dari data yang di atas \n",
        "\n",
        "Dapat dilihat Dari Confusion matrix diatas, model ini mempunyai value false positive sebesar 4.64% dan False negative sebesar 12.88%.\n",
        "\n",
        "Dan Accuracy Socrenye sebesar 82.43 %"
      ]
    }
  ]
}